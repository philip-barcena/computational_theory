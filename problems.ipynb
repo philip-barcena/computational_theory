{
 "cells": [
  {
   "cell_type": "markdown",
   "id": "82fa3955",
   "metadata": {},
   "source": [
    "## A second-level heading\n",
    "Computational Theory Problems"
   ]
  },
  {
   "cell_type": "code",
   "execution_count": null,
   "id": "13467b39",
   "metadata": {
    "vscode": {
     "languageId": "plaintext"
    }
   },
   "outputs": [],
   "source": [
    "import numpy"
   ]
  },
  {
   "cell_type": "markdown",
   "id": "585a4774",
   "metadata": {},
   "source": [
    "## A second-level heading\n",
    "Problem 1: Binary Words and Operations"
   ]
  },
  {
   "cell_type": "code",
   "execution_count": null,
   "id": "ea767d03",
   "metadata": {
    "vscode": {
     "languageId": "plaintext"
    }
   },
   "outputs": [],
   "source": []
  },
  {
   "cell_type": "markdown",
   "id": "783691ef",
   "metadata": {},
   "source": [
    "## A second-level heading\n",
    "Problem 2: Fractional Parts of Cube Roots"
   ]
  },
  {
   "cell_type": "code",
   "execution_count": null,
   "id": "b0ab6d14",
   "metadata": {
    "vscode": {
     "languageId": "plaintext"
    }
   },
   "outputs": [],
   "source": []
  },
  {
   "cell_type": "markdown",
   "id": "2bc4d4f8",
   "metadata": {},
   "source": [
    "## A second-level heading\n",
    "Problem 3: Padding"
   ]
  },
  {
   "cell_type": "code",
   "execution_count": null,
   "id": "78b3cdc9",
   "metadata": {
    "vscode": {
     "languageId": "plaintext"
    }
   },
   "outputs": [],
   "source": []
  },
  {
   "cell_type": "markdown",
   "id": "675ea1dd",
   "metadata": {},
   "source": [
    "## A second-level heading\n",
    "Problem 4: Hashes"
   ]
  },
  {
   "cell_type": "code",
   "execution_count": null,
   "id": "e165c88a",
   "metadata": {
    "vscode": {
     "languageId": "plaintext"
    }
   },
   "outputs": [],
   "source": []
  },
  {
   "cell_type": "markdown",
   "id": "97569ee1",
   "metadata": {},
   "source": [
    "## A second-level heading\n",
    "Problem 5: Passwords"
   ]
  },
  {
   "cell_type": "code",
   "execution_count": null,
   "id": "71b99e79",
   "metadata": {
    "vscode": {
     "languageId": "plaintext"
    }
   },
   "outputs": [],
   "source": []
  }
 ],
 "metadata": {
  "language_info": {
   "name": "python"
  }
 },
 "nbformat": 4,
 "nbformat_minor": 5
}
